{
 "cells": [
  {
   "cell_type": "code",
   "execution_count": 2,
   "metadata": {},
   "outputs": [],
   "source": [
    "import math\n",
    "import numpy as np\n",
    "import matplotlib.pyplot as plt\n",
    "%matplotlib inline"
   ]
  },
  {
   "cell_type": "code",
   "execution_count": 3,
   "metadata": {},
   "outputs": [],
   "source": [
    "def f(x):\n",
    "    return x**2 - 4*x + 10"
   ]
  },
  {
   "cell_type": "code",
   "execution_count": 4,
   "metadata": {},
   "outputs": [
    {
     "data": {
      "text/plain": [
       "6.0"
      ]
     },
     "execution_count": 4,
     "metadata": {},
     "output_type": "execute_result"
    }
   ],
   "source": [
    "f(2.0)"
   ]
  },
  {
   "cell_type": "code",
   "execution_count": 5,
   "metadata": {},
   "outputs": [
    {
     "data": {
      "image/png": "[encoded data removed]",
      "text/plain": [
       "<Figure size 640x480 with 1 Axes>"
      ]
     },
     "metadata": {},
     "output_type": "display_data"
    }
   ],
   "source": [
    "xs = np.arange(-20,25, 0.25)\n",
    "ys = f(xs)\n",
    "plt.plot(xs, ys)\n",
    "plt.show()"
   ]
  },
  {
   "cell_type": "code",
   "execution_count": 9,
   "metadata": {},
   "outputs": [
    {
     "data": {
      "text/plain": [
       "-8.0"
      ]
     },
     "execution_count": 9,
     "metadata": {},
     "output_type": "execute_result"
    }
   ],
   "source": [
    "class Value:\n",
    "\n",
    "    def __init__(self, data, _children=(), _op='', label=''):\n",
    "        self.data = data                  # This stores the actual numeric value\n",
    "        self._prev = set(_children)      # This keeps track of which Value objects were used to compute this one (for backpropagation)\n",
    "        self._op = _op                   # This stores the operation that produced this Value ('+', '-', '*', etc.) — useful for visualizing the computation graph\n",
    "        self.grad = 0.0                  # This stores the gradient of this Value with respect to some scalar value (for backpropagation)\n",
    "        self.label = label\n",
    "\n",
    "    def __repr__(self):\n",
    "        return f\"Value(data={self.data})\"  # Used to print the object nicely\n",
    "    \n",
    "    # When we perform the operations listed below on an two Value objects, we return a new Value that contains:\n",
    "        # - the result of the addition\n",
    "        # - a reference to the inputs (self and other) as children\n",
    "        # - the operation used to create this node ('+')\n",
    "    def __add__(self, other):\n",
    "        out = Value(self.data + other.data, (self, other), '+')\n",
    "        return out\n",
    "\n",
    "    def __mul__(self, other):\n",
    "        out = Value(self.data * other.data, (self, other), '*')\n",
    "        return out\n",
    "    \n",
    "    def __sub__(self, other):\n",
    "        out = Value(self.data - other.data, (self, other), '-')\n",
    "        return out\n",
    "    \n",
    "\n",
    "a = Value(2.0, label='a')\n",
    "b = Value(-3.0, label='b')\n",
    "c = Value(10.0, label='c')\n",
    "e = a * b; e.label = 'e'\n",
    "d = e + c; d.label = 'd'\n",
    "f = Value(-2.0, label='f')\n",
    "L = d * f ; L.label = 'L'\n",
    "L.data"
   ]
  },
  {
   "cell_type": "code",
   "execution_count": 11,
   "metadata": {},
   "outputs": [],
   "source": [
    "from graphviz import Digraph\n",
    "\n",
    "def trace(root):\n",
    "    nodes, edges = set(), set()\n",
    "    \n",
    "    def build(v):\n",
    "        if v not in nodes:\n",
    "            nodes.add(v)\n",
    "            for child in v._prev:\n",
    "                edges.add((child, v))\n",
    "                build(child)\n",
    "    \n",
    "    build(root)\n",
    "    return nodes, edges\n",
    "\n",
    "def draw_dot(root):\n",
    "    dot = Digraph(format='svg', graph_attr={'rankdir': 'LR'})\n",
    "\n",
    "    nodes, edges = trace(root)\n",
    "    for n in nodes:\n",
    "        uid = str(id(n))\n",
    "        dot.node(name = uid, label = \"{ %s | data %.4f | grad %.4f }\" % (n.label, n.data, n.grad), shape='record')\n",
    "        \n",
    "        if n._op:\n",
    "            dot.node(name = uid + n._op, label = n._op)\n",
    "            dot.edge(uid + n._op, uid)\n",
    "\n",
    "    for n1, n2 in edges:\n",
    "        # connect n1 to the op node of n2\n",
    "        dot.edge(str(id(n1)), str(id(n2)) + n2._op)\n",
    "\n",
    "    return dot\n"
   ]
  },
  {
   "cell_type": "code",
   "execution_count": 34,
   "metadata": {},
   "outputs": [
    {
     "data": {
      "image/svg+xml": [
       "<?xml version=\"1.0\" encoding=\"UTF-8\" standalone=\"no\"?>\n",
       "<!DOCTYPE svg PUBLIC \"-//W3C//DTD SVG 1.1//EN\"\n",
       " \"http://www.w3.org/Graphics/SVG/1.1/DTD/svg11.dtd\">\n",
       "<!-- Generated by graphviz version 13.1.0 (20250701.0955)\n",
       " -->\n",
       "<!-- Pages: 1 -->\n",
       "<svg width=\"1151pt\" height=\"128pt\"\n",
       " viewBox=\"0.00 0.00 1151.00 128.00\" xmlns=\"http://www.w3.org/2000/svg\" xmlns:xlink=\"http://www.w3.org/1999/xlink\">\n",
       "<g id=\"graph0\" class=\"graph\" transform=\"scale(1 1) rotate(0) translate(4 124)\">\n",
       "<polygon fill=\"white\" stroke=\"none\" points=\"-4,4 -4,-124 1147,-124 1147,4 -4,4\"/>\n",
       "<!-- 2640740611184 -->\n",
       "<g id=\"node1\" class=\"node\">\n",
       "<title>2640740611184</title>\n",
       "<polygon fill=\"none\" stroke=\"black\" points=\"640.12,-82.5 640.12,-118.5 826.12,-118.5 826.12,-82.5 640.12,-82.5\"/>\n",
       "<text xml:space=\"preserve\" text-anchor=\"middle\" x=\"650.38\" y=\"-95.7\" font-family=\"Times New Roman,serif\" font-size=\"14.00\">f</text>\n",
       "<polyline fill=\"none\" stroke=\"black\" points=\"660.62,-83 660.62,-118.5\"/>\n",
       "<text xml:space=\"preserve\" text-anchor=\"middle\" x=\"702.75\" y=\"-95.7\" font-family=\"Times New Roman,serif\" font-size=\"14.00\">data &#45;2.0000</text>\n",
       "<polyline fill=\"none\" stroke=\"black\" points=\"744.88,-83 744.88,-118.5\"/>\n",
       "<text xml:space=\"preserve\" text-anchor=\"middle\" x=\"785.5\" y=\"-95.7\" font-family=\"Times New Roman,serif\" font-size=\"14.00\">grad 4.0000</text>\n",
       "</g>\n",
       "<!-- 2640740606240* -->\n",
       "<g id=\"node5\" class=\"node\">\n",
       "<title>2640740606240*</title>\n",
       "<ellipse fill=\"none\" stroke=\"black\" cx=\"890.25\" cy=\"-72.5\" rx=\"27\" ry=\"18\"/>\n",
       "<text xml:space=\"preserve\" text-anchor=\"middle\" x=\"890.25\" y=\"-67.45\" font-family=\"Times New Roman,serif\" font-size=\"14.00\">*</text>\n",
       "</g>\n",
       "<!-- 2640740611184&#45;&gt;2640740606240* -->\n",
       "<g id=\"edge8\" class=\"edge\">\n",
       "<title>2640740611184&#45;&gt;2640740606240*</title>\n",
       "<path fill=\"none\" stroke=\"black\" d=\"M826.6,-83.81C835.76,-82.16 844.62,-80.56 852.67,-79.1\"/>\n",
       "<polygon fill=\"black\" stroke=\"black\" points=\"853.09,-82.58 862.31,-77.36 851.84,-75.7 853.09,-82.58\"/>\n",
       "</g>\n",
       "<!-- 2640740609168 -->\n",
       "<g id=\"node2\" class=\"node\">\n",
       "<title>2640740609168</title>\n",
       "<polygon fill=\"none\" stroke=\"black\" points=\"319.88,-55.5 319.88,-91.5 511.88,-91.5 511.88,-55.5 319.88,-55.5\"/>\n",
       "<text xml:space=\"preserve\" text-anchor=\"middle\" x=\"330.88\" y=\"-68.7\" font-family=\"Times New Roman,serif\" font-size=\"14.00\">e</text>\n",
       "<polyline fill=\"none\" stroke=\"black\" points=\"341.88,-56 341.88,-91.5\"/>\n",
       "<text xml:space=\"preserve\" text-anchor=\"middle\" x=\"384\" y=\"-68.7\" font-family=\"Times New Roman,serif\" font-size=\"14.00\">data &#45;6.0000</text>\n",
       "<polyline fill=\"none\" stroke=\"black\" points=\"426.12,-56 426.12,-91.5\"/>\n",
       "<text xml:space=\"preserve\" text-anchor=\"middle\" x=\"469\" y=\"-68.7\" font-family=\"Times New Roman,serif\" font-size=\"14.00\">grad &#45;2.0000</text>\n",
       "</g>\n",
       "<!-- 2640740610896+ -->\n",
       "<g id=\"node7\" class=\"node\">\n",
       "<title>2640740610896+</title>\n",
       "<ellipse fill=\"none\" stroke=\"black\" cx=\"576\" cy=\"-45.5\" rx=\"27\" ry=\"18\"/>\n",
       "<text xml:space=\"preserve\" text-anchor=\"middle\" x=\"576\" y=\"-40.45\" font-family=\"Times New Roman,serif\" font-size=\"14.00\">+</text>\n",
       "</g>\n",
       "<!-- 2640740609168&#45;&gt;2640740610896+ -->\n",
       "<g id=\"edge9\" class=\"edge\">\n",
       "<title>2640740609168&#45;&gt;2640740610896+</title>\n",
       "<path fill=\"none\" stroke=\"black\" d=\"M512.05,-56.65C521.28,-55.01 530.2,-53.43 538.29,-52\"/>\n",
       "<polygon fill=\"black\" stroke=\"black\" points=\"538.74,-55.47 547.98,-50.28 537.52,-48.58 538.74,-55.47\"/>\n",
       "</g>\n",
       "<!-- 2640740609168* -->\n",
       "<g id=\"node3\" class=\"node\">\n",
       "<title>2640740609168*</title>\n",
       "<ellipse fill=\"none\" stroke=\"black\" cx=\"255.75\" cy=\"-73.5\" rx=\"27\" ry=\"18\"/>\n",
       "<text xml:space=\"preserve\" text-anchor=\"middle\" x=\"255.75\" y=\"-68.45\" font-family=\"Times New Roman,serif\" font-size=\"14.00\">*</text>\n",
       "</g>\n",
       "<!-- 2640740609168*&#45;&gt;2640740609168 -->\n",
       "<g id=\"edge1\" class=\"edge\">\n",
       "<title>2640740609168*&#45;&gt;2640740609168</title>\n",
       "<path fill=\"none\" stroke=\"black\" d=\"M283.22,-73.5C290.59,-73.5 299.09,-73.5 308.13,-73.5\"/>\n",
       "<polygon fill=\"black\" stroke=\"black\" points=\"307.89,-77 317.89,-73.5 307.89,-70 307.89,-77\"/>\n",
       "</g>\n",
       "<!-- 2640740606240 -->\n",
       "<g id=\"node4\" class=\"node\">\n",
       "<title>2640740606240</title>\n",
       "<polygon fill=\"none\" stroke=\"black\" points=\"953.25,-54.5 953.25,-90.5 1143,-90.5 1143,-54.5 953.25,-54.5\"/>\n",
       "<text xml:space=\"preserve\" text-anchor=\"middle\" x=\"965.38\" y=\"-67.7\" font-family=\"Times New Roman,serif\" font-size=\"14.00\">L</text>\n",
       "<polyline fill=\"none\" stroke=\"black\" points=\"977.5,-55 977.5,-90.5\"/>\n",
       "<text xml:space=\"preserve\" text-anchor=\"middle\" x=\"1019.62\" y=\"-67.7\" font-family=\"Times New Roman,serif\" font-size=\"14.00\">data &#45;8.0000</text>\n",
       "<polyline fill=\"none\" stroke=\"black\" points=\"1061.75,-55 1061.75,-90.5\"/>\n",
       "<text xml:space=\"preserve\" text-anchor=\"middle\" x=\"1102.38\" y=\"-67.7\" font-family=\"Times New Roman,serif\" font-size=\"14.00\">grad 1.0000</text>\n",
       "</g>\n",
       "<!-- 2640740606240*&#45;&gt;2640740606240 -->\n",
       "<g id=\"edge2\" class=\"edge\">\n",
       "<title>2640740606240*&#45;&gt;2640740606240</title>\n",
       "<path fill=\"none\" stroke=\"black\" d=\"M917.69,-72.5C924.84,-72.5 933.03,-72.5 941.74,-72.5\"/>\n",
       "<polygon fill=\"black\" stroke=\"black\" points=\"941.51,-76 951.51,-72.5 941.51,-69 941.51,-76\"/>\n",
       "</g>\n",
       "<!-- 2640740610896 -->\n",
       "<g id=\"node6\" class=\"node\">\n",
       "<title>2640740610896</title>\n",
       "<polygon fill=\"none\" stroke=\"black\" points=\"639,-27.5 639,-63.5 827.25,-63.5 827.25,-27.5 639,-27.5\"/>\n",
       "<text xml:space=\"preserve\" text-anchor=\"middle\" x=\"650.38\" y=\"-40.7\" font-family=\"Times New Roman,serif\" font-size=\"14.00\">d</text>\n",
       "<polyline fill=\"none\" stroke=\"black\" points=\"661.75,-28 661.75,-63.5\"/>\n",
       "<text xml:space=\"preserve\" text-anchor=\"middle\" x=\"701.62\" y=\"-40.7\" font-family=\"Times New Roman,serif\" font-size=\"14.00\">data 4.0000</text>\n",
       "<polyline fill=\"none\" stroke=\"black\" points=\"741.5,-28 741.5,-63.5\"/>\n",
       "<text xml:space=\"preserve\" text-anchor=\"middle\" x=\"784.38\" y=\"-40.7\" font-family=\"Times New Roman,serif\" font-size=\"14.00\">grad &#45;2.0000</text>\n",
       "</g>\n",
       "<!-- 2640740610896&#45;&gt;2640740606240* -->\n",
       "<g id=\"edge7\" class=\"edge\">\n",
       "<title>2640740610896&#45;&gt;2640740606240*</title>\n",
       "<path fill=\"none\" stroke=\"black\" d=\"M827.49,-61.75C836.27,-63.28 844.77,-64.76 852.51,-66.1\"/>\n",
       "<polygon fill=\"black\" stroke=\"black\" points=\"851.66,-69.51 862.11,-67.78 852.86,-62.61 851.66,-69.51\"/>\n",
       "</g>\n",
       "<!-- 2640740610896+&#45;&gt;2640740610896 -->\n",
       "<g id=\"edge3\" class=\"edge\">\n",
       "<title>2640740610896+&#45;&gt;2640740610896</title>\n",
       "<path fill=\"none\" stroke=\"black\" d=\"M603.31,-45.5C610.49,-45.5 618.72,-45.5 627.47,-45.5\"/>\n",
       "<polygon fill=\"black\" stroke=\"black\" points=\"627.29,-49 637.29,-45.5 627.29,-42 627.29,-49\"/>\n",
       "</g>\n",
       "<!-- 2640740606288 -->\n",
       "<g id=\"node8\" class=\"node\">\n",
       "<title>2640740606288</title>\n",
       "<polygon fill=\"none\" stroke=\"black\" points=\"0,-83.5 0,-119.5 192.75,-119.5 192.75,-83.5 0,-83.5\"/>\n",
       "<text xml:space=\"preserve\" text-anchor=\"middle\" x=\"11.38\" y=\"-96.7\" font-family=\"Times New Roman,serif\" font-size=\"14.00\">b</text>\n",
       "<polyline fill=\"none\" stroke=\"black\" points=\"22.75,-84 22.75,-119.5\"/>\n",
       "<text xml:space=\"preserve\" text-anchor=\"middle\" x=\"64.88\" y=\"-96.7\" font-family=\"Times New Roman,serif\" font-size=\"14.00\">data &#45;3.0000</text>\n",
       "<polyline fill=\"none\" stroke=\"black\" points=\"107,-84 107,-119.5\"/>\n",
       "<text xml:space=\"preserve\" text-anchor=\"middle\" x=\"149.88\" y=\"-96.7\" font-family=\"Times New Roman,serif\" font-size=\"14.00\">grad &#45;4.0000</text>\n",
       "</g>\n",
       "<!-- 2640740606288&#45;&gt;2640740609168* -->\n",
       "<g id=\"edge6\" class=\"edge\">\n",
       "<title>2640740606288&#45;&gt;2640740609168*</title>\n",
       "<path fill=\"none\" stroke=\"black\" d=\"M193,-84.49C201.81,-82.92 210.32,-81.41 218.06,-80.03\"/>\n",
       "<polygon fill=\"black\" stroke=\"black\" points=\"218.43,-83.52 227.66,-78.32 217.21,-76.62 218.43,-83.52\"/>\n",
       "</g>\n",
       "<!-- 2640740605328 -->\n",
       "<g id=\"node9\" class=\"node\">\n",
       "<title>2640740605328</title>\n",
       "<polygon fill=\"none\" stroke=\"black\" points=\"4.88,-28.5 4.88,-64.5 187.88,-64.5 187.88,-28.5 4.88,-28.5\"/>\n",
       "<text xml:space=\"preserve\" text-anchor=\"middle\" x=\"15.88\" y=\"-41.7\" font-family=\"Times New Roman,serif\" font-size=\"14.00\">a</text>\n",
       "<polyline fill=\"none\" stroke=\"black\" points=\"26.88,-29 26.88,-64.5\"/>\n",
       "<text xml:space=\"preserve\" text-anchor=\"middle\" x=\"66.75\" y=\"-41.7\" font-family=\"Times New Roman,serif\" font-size=\"14.00\">data 2.0000</text>\n",
       "<polyline fill=\"none\" stroke=\"black\" points=\"106.62,-29 106.62,-64.5\"/>\n",
       "<text xml:space=\"preserve\" text-anchor=\"middle\" x=\"147.25\" y=\"-41.7\" font-family=\"Times New Roman,serif\" font-size=\"14.00\">grad 6.0000</text>\n",
       "</g>\n",
       "<!-- 2640740605328&#45;&gt;2640740609168* -->\n",
       "<g id=\"edge4\" class=\"edge\">\n",
       "<title>2640740605328&#45;&gt;2640740609168*</title>\n",
       "<path fill=\"none\" stroke=\"black\" d=\"M188.01,-62.05C198.46,-63.84 208.62,-65.59 217.74,-67.15\"/>\n",
       "<polygon fill=\"black\" stroke=\"black\" points=\"217.11,-70.59 227.56,-68.84 218.3,-63.69 217.11,-70.59\"/>\n",
       "</g>\n",
       "<!-- 2640740613056 -->\n",
       "<g id=\"node10\" class=\"node\">\n",
       "<title>2640740613056</title>\n",
       "<polygon fill=\"none\" stroke=\"black\" points=\"318.75,-0.5 318.75,-36.5 513,-36.5 513,-0.5 318.75,-0.5\"/>\n",
       "<text xml:space=\"preserve\" text-anchor=\"middle\" x=\"329.75\" y=\"-13.7\" font-family=\"Times New Roman,serif\" font-size=\"14.00\">c</text>\n",
       "<polyline fill=\"none\" stroke=\"black\" points=\"340.75,-1 340.75,-36.5\"/>\n",
       "<text xml:space=\"preserve\" text-anchor=\"middle\" x=\"384\" y=\"-13.7\" font-family=\"Times New Roman,serif\" font-size=\"14.00\">data 10.0000</text>\n",
       "<polyline fill=\"none\" stroke=\"black\" points=\"427.25,-1 427.25,-36.5\"/>\n",
       "<text xml:space=\"preserve\" text-anchor=\"middle\" x=\"470.12\" y=\"-13.7\" font-family=\"Times New Roman,serif\" font-size=\"14.00\">grad &#45;2.0000</text>\n",
       "</g>\n",
       "<!-- 2640740613056&#45;&gt;2640740610896+ -->\n",
       "<g id=\"edge5\" class=\"edge\">\n",
       "<title>2640740613056&#45;&gt;2640740610896+</title>\n",
       "<path fill=\"none\" stroke=\"black\" d=\"M513.41,-34.98C522.1,-36.47 530.5,-37.9 538.15,-39.21\"/>\n",
       "<polygon fill=\"black\" stroke=\"black\" points=\"537.55,-42.66 548,-40.89 538.73,-35.76 537.55,-42.66\"/>\n",
       "</g>\n",
       "</g>\n",
       "</svg>\n"
      ],
      "text/plain": [
       "<graphviz.graphs.Digraph at 0x266d87baab0>"
      ]
     },
     "execution_count": 34,
     "metadata": {},
     "output_type": "execute_result"
    }
   ],
   "source": [
    "draw_dot(L)"
   ]
  },
  {
   "cell_type": "code",
   "execution_count": 27,
   "metadata": {},
   "outputs": [
    {
     "name": "stdout",
     "output_type": "stream",
     "text": [
      "6.000000000000227\n"
     ]
    }
   ],
   "source": [
    "def lol():\n",
    "    h = 0.001\n",
    "\n",
    "    a = Value(2.0, label='a')\n",
    "    b = Value(-3.0, label='b')\n",
    "    c = Value(10.0, label='c')\n",
    "    e = a * b; e.label = 'e'\n",
    "    d = e + c; d.label = 'd'\n",
    "    f = Value(-2.0, label='f')\n",
    "    L = d * f; L.label = 'L'\n",
    "    L1 = L.data\n",
    "\n",
    "    a = Value(2.0, label='a')\n",
    "    a.data = a.data + h\n",
    "    b = Value(-3.0, label='b')\n",
    "    c = Value(10.0, label='c')\n",
    "    e = a * b; e.label = 'e'\n",
    "    d = e + c; d.label = 'd'\n",
    "    f = Value(-2.0, label='f')\n",
    "    L = d * f; L.label = 'L'\n",
    "    L2 = L.data \n",
    "\n",
    "    print((L2 - L1) / h)\n",
    "\n",
    "lol()\n"
   ]
  }
 ],
 "metadata": {
  "kernelspec": {
   "display_name": "Python 3",
   "language": "python",
   "name": "python3"
  },
  "language_info": {
   "codemirror_mode": {
    "name": "ipython",
    "version": 3
   },
   "file_extension": ".py",
   "mimetype": "text/x-python",
   "name": "python",
   "nbconvert_exporter": "python",
   "pygments_lexer": "ipython3",
   "version": "3.12.6"
  }
 },
 "nbformat": 4,
 "nbformat_minor": 2
}
